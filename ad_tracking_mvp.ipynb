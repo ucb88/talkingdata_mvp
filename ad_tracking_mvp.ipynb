{
 "cells": [
  {
   "cell_type": "code",
   "execution_count": 1,
   "id": "natural-religion",
   "metadata": {},
   "outputs": [],
   "source": [
    "import numpy as np\n",
    "import pandas as pd\n",
    "import os\n",
    "import gc\n",
    "\n",
    "data_path = \"data\""
   ]
  },
  {
   "cell_type": "markdown",
   "id": "closing-reggae",
   "metadata": {},
   "source": [
    "# 1. INTRODUCTION"
   ]
  },
  {
   "cell_type": "markdown",
   "id": "straight-drain",
   "metadata": {},
   "source": [
    "challange: huge amount of data\n",
    "    \n",
    "\n",
    "<b> check data </b><br>\n",
    "$ ls -lh ./data\n",
    "187M  2019 sample_submission.csv <br>\n",
    "824M Dec 12  2019 test.csv <br>\n",
    "2.5G Dec 12  2019 test_supplement.csv <br>\n",
    "7.1G Dec 12  2019 train.csv <br>\n",
    "3.9M Dec 12  2019 train_sample.csv <br>\n",
    "\n",
    "$ cat train.csv | wc -l<br>\n",
    "184903891\n",
    "\n",
    "$ cat test.csv | wc -l<br>\n",
    "18790470\n",
    "\n",
    "\n",
    "\n",
    "use gc (garbage collector). I woulc be better to  delete constantly unncessary things.<br>\n",
    "use dask instead of pandas <br>\n",
    "read csv chunk by chunk or use feather <br>\n",
    "use appropriate dyteps while reading file columns to reduce memory usage <br>\n",
    "\n"
   ]
  },
  {
   "cell_type": "code",
   "execution_count": null,
   "id": "moving-pencil",
   "metadata": {},
   "outputs": [],
   "source": []
  }
 ],
 "metadata": {
  "kernelspec": {
   "display_name": "Python 3",
   "language": "python",
   "name": "python3"
  },
  "language_info": {
   "codemirror_mode": {
    "name": "ipython",
    "version": 3
   },
   "file_extension": ".py",
   "mimetype": "text/x-python",
   "name": "python",
   "nbconvert_exporter": "python",
   "pygments_lexer": "ipython3",
   "version": "3.7.9"
  }
 },
 "nbformat": 4,
 "nbformat_minor": 5
}
